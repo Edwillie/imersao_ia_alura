{
  "nbformat": 4,
  "nbformat_minor": 0,
  "metadata": {
    "colab": {
      "provenance": [],
      "authorship_tag": "ABX9TyMTCfUsVLn5fdBjjSz+Ti6X",
      "include_colab_link": true
    },
    "kernelspec": {
      "name": "python3",
      "display_name": "Python 3"
    },
    "language_info": {
      "name": "python"
    }
  },
  "cells": [
    {
      "cell_type": "markdown",
      "metadata": {
        "id": "view-in-github",
        "colab_type": "text"
      },
      "source": [
        "<a href=\"https://colab.research.google.com/github/Edwillie/imersao_ia_alura/blob/main/CardapioDiario.ipynb\" target=\"_parent\"><img src=\"https://colab.research.google.com/assets/colab-badge.svg\" alt=\"Open In Colab\"/></a>"
      ]
    },
    {
      "cell_type": "markdown",
      "source": [
        "# Instalação do SDK"
      ],
      "metadata": {
        "id": "wawI9-29lLe9"
      }
    },
    {
      "cell_type": "code",
      "source": [
        "!pip install -q -U google-generativeai"
      ],
      "metadata": {
        "id": "DukoDRAklTbD"
      },
      "execution_count": 9,
      "outputs": []
    },
    {
      "cell_type": "markdown",
      "source": [
        "# Importação de Bibliotecas Necessárias"
      ],
      "metadata": {
        "id": "WaIi_8UnZBoZ"
      }
    },
    {
      "cell_type": "code",
      "execution_count": 10,
      "metadata": {
        "id": "d8O3jhUmXGDj"
      },
      "outputs": [],
      "source": [
        "from google.colab import userdata\n",
        "import google.generativeai as genai"
      ]
    },
    {
      "cell_type": "markdown",
      "source": [
        "# Inicialização de Variáveis"
      ],
      "metadata": {
        "id": "ffhr0xEPbTQ2"
      }
    },
    {
      "cell_type": "code",
      "source": [
        "aikey = userdata.get('GeminiKey')"
      ],
      "metadata": {
        "id": "VtCdv6pLbP3p"
      },
      "execution_count": 11,
      "outputs": []
    },
    {
      "cell_type": "markdown",
      "source": [
        "# Conectando no Gemini"
      ],
      "metadata": {
        "id": "Eb1lcqyUb5vf"
      }
    },
    {
      "cell_type": "code",
      "source": [
        "# Configurando o Modelo\n",
        "genai.configure(api_key=aikey)\n",
        "\n",
        "generation_config = {\n",
        "  \"candidate_count\": 1,\n",
        "  \"temperature\": 1,\n",
        "  \"top_p\": 0.95,\n",
        "  \"top_k\": 0,\n",
        "  \"max_output_tokens\": 8192,\n",
        "}\n",
        "\n",
        "safety_settings = [\n",
        "  {\n",
        "    \"category\": \"HARM_CATEGORY_HARASSMENT\",\n",
        "    \"threshold\": \"BLOCK_MEDIUM_AND_ABOVE\"\n",
        "  },\n",
        "  {\n",
        "    \"category\": \"HARM_CATEGORY_HATE_SPEECH\",\n",
        "    \"threshold\": \"BLOCK_MEDIUM_AND_ABOVE\"\n",
        "  },\n",
        "  {\n",
        "    \"category\": \"HARM_CATEGORY_SEXUALLY_EXPLICIT\",\n",
        "    \"threshold\": \"BLOCK_MEDIUM_AND_ABOVE\"\n",
        "  },\n",
        "  {\n",
        "    \"category\": \"HARM_CATEGORY_DANGEROUS_CONTENT\",\n",
        "    \"threshold\": \"BLOCK_MEDIUM_AND_ABOVE\"\n",
        "  },\n",
        "]\n",
        "\n",
        "model = genai.GenerativeModel(model_name=\"gemini-1.5-pro-latest\",\n",
        "                              generation_config=generation_config,\n",
        "                              safety_settings=safety_settings)"
      ],
      "metadata": {
        "id": "Ft6nPu2ibuo1"
      },
      "execution_count": 12,
      "outputs": []
    },
    {
      "cell_type": "markdown",
      "source": [
        "# Começando a consumir o modelo"
      ],
      "metadata": {
        "id": "vEZb8-yEzc-u"
      }
    },
    {
      "cell_type": "code",
      "source": [
        "print(\"Atenção, Este modelo está enviesado como um cozinheiro\")\n",
        "\n",
        "chat = model.start_chat(history=[])\n",
        "prompt = input(\"Diga qual refeição você quer uma receita: \")\n",
        "\n",
        "while prompt != 'FIM':\n",
        "  resposta = chat.send_message(f'Como um chef de cozinha, proponha uma receita fácil e rápida para meu {prompt}')\n",
        "  print(f'Resposta: {resposta.text}','\\n')\n",
        "  prompt = input(\"Diga qual refeição você quer uma receita: \")\n"
      ],
      "metadata": {
        "id": "leALi0V1zbio"
      },
      "execution_count": null,
      "outputs": []
    }
  ]
}