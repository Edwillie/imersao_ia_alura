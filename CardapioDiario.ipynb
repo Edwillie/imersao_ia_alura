{
  "nbformat": 4,
  "nbformat_minor": 0,
  "metadata": {
    "colab": {
      "provenance": [],
      "authorship_tag": "ABX9TyNagOj7n9PYWC53hMOEMWSr",
      "include_colab_link": true
    },
    "kernelspec": {
      "name": "python3",
      "display_name": "Python 3"
    },
    "language_info": {
      "name": "python"
    }
  },
  "cells": [
    {
      "cell_type": "markdown",
      "metadata": {
        "id": "view-in-github",
        "colab_type": "text"
      },
      "source": [
        "<a href=\"https://colab.research.google.com/github/Edwillie/imersao_ia_alura/blob/main/CardapioDiario.ipynb\" target=\"_parent\"><img src=\"https://colab.research.google.com/assets/colab-badge.svg\" alt=\"Open In Colab\"/></a>"
      ]
    },
    {
      "cell_type": "markdown",
      "source": [
        "# Instalação do SDK"
      ],
      "metadata": {
        "id": "wawI9-29lLe9"
      }
    },
    {
      "cell_type": "code",
      "source": [
        "!pip install -q -U google-generativeai"
      ],
      "metadata": {
        "id": "DukoDRAklTbD"
      },
      "execution_count": 1,
      "outputs": []
    },
    {
      "cell_type": "markdown",
      "source": [
        "# Importação de Bibliotecas Necessárias"
      ],
      "metadata": {
        "id": "WaIi_8UnZBoZ"
      }
    },
    {
      "cell_type": "code",
      "execution_count": 7,
      "metadata": {
        "id": "d8O3jhUmXGDj"
      },
      "outputs": [],
      "source": [
        "from google.colab import userdata\n",
        "from IPython.display import display, Markdown\n",
        "import google.generativeai as genai\n",
        "import textwrap\n",
        "import PIL.Image\n",
        "import urllib.request"
      ]
    },
    {
      "cell_type": "markdown",
      "source": [
        "# Funções de apoio"
      ],
      "metadata": {
        "id": "YWPa4xDz6kXJ"
      }
    },
    {
      "cell_type": "code",
      "source": [
        "# Melhorando a visualização\n",
        "def to_markdown(text):\n",
        "  text = text.replace('*', '   *')\n",
        "  return Markdown(textwrap.indent(text, '> ', predicate=lambda _:True))\n"
      ],
      "metadata": {
        "id": "HYhASFBg6oKO"
      },
      "execution_count": 3,
      "outputs": []
    },
    {
      "cell_type": "markdown",
      "source": [
        "# Inicialização de Variáveis"
      ],
      "metadata": {
        "id": "ffhr0xEPbTQ2"
      }
    },
    {
      "cell_type": "code",
      "source": [
        "aikey = userdata.get('GeminiKey')"
      ],
      "metadata": {
        "id": "VtCdv6pLbP3p"
      },
      "execution_count": 4,
      "outputs": []
    },
    {
      "cell_type": "markdown",
      "source": [
        "# Conectando no Gemini"
      ],
      "metadata": {
        "id": "Eb1lcqyUb5vf"
      }
    },
    {
      "cell_type": "code",
      "source": [
        "# Configurando o Modelo\n",
        "genai.configure(api_key=aikey)\n",
        "\n",
        "generation_config = {\n",
        "  \"candidate_count\": 1,\n",
        "  \"temperature\": 1,\n",
        "  \"top_p\": 0.95,\n",
        "  \"top_k\": 0,\n",
        "  \"max_output_tokens\": 8192,\n",
        "}\n",
        "\n",
        "safety_settings = [\n",
        "  {\n",
        "    \"category\": \"HARM_CATEGORY_HARASSMENT\",\n",
        "    \"threshold\": \"BLOCK_MEDIUM_AND_ABOVE\"\n",
        "  },\n",
        "  {\n",
        "    \"category\": \"HARM_CATEGORY_HATE_SPEECH\",\n",
        "    \"threshold\": \"BLOCK_MEDIUM_AND_ABOVE\"\n",
        "  },\n",
        "  {\n",
        "    \"category\": \"HARM_CATEGORY_SEXUALLY_EXPLICIT\",\n",
        "    \"threshold\": \"BLOCK_MEDIUM_AND_ABOVE\"\n",
        "  },\n",
        "  {\n",
        "    \"category\": \"HARM_CATEGORY_DANGEROUS_CONTENT\",\n",
        "    \"threshold\": \"BLOCK_MEDIUM_AND_ABOVE\"\n",
        "  },\n",
        "]\n",
        "\n",
        "model = genai.GenerativeModel(model_name=\"gemini-1.5-pro-latest\",\n",
        "                              generation_config=generation_config,\n",
        "                              safety_settings=safety_settings)"
      ],
      "metadata": {
        "id": "Ft6nPu2ibuo1"
      },
      "execution_count": 5,
      "outputs": []
    },
    {
      "cell_type": "markdown",
      "source": [
        "# Começando a consumir o modelo"
      ],
      "metadata": {
        "id": "vEZb8-yEzc-u"
      }
    },
    {
      "cell_type": "code",
      "source": [
        "print(\"Atenção, Este modelo está enviesado como um cozinheiro\")"
      ],
      "metadata": {
        "id": "nF-8EdXJlpTr"
      },
      "execution_count": null,
      "outputs": []
    },
    {
      "cell_type": "markdown",
      "source": [
        "# Lendo a imagem que irá listar os igredientes que deverão ser usados nas receitas de refeição"
      ],
      "metadata": {
        "id": "aGJ5asXzmWK1"
      }
    },
    {
      "cell_type": "code",
      "source": [
        "#urllib.request.urlretrieve('https://t0.gstatic.com/licensed-image?q=tbn:ANd9GcQ_Kevbk21QBRy-PgB4kQpS79brbmmEG7m3VOTShAn4PecDU5H5UxrJxE3Dw1JiaG17V88QIol19-3TM2wCHw', 'img_arq')\n",
        "urllib.request.urlretrieve('https://i0.wp.com/blog.centralutily.com.br/wp-content/uploads/2021/09/como-organizar-uma-geladeira-por-dentro.jpg', 'img_arq')\n",
        "img = PIL.Image.open('img_arq')\n",
        "response_img = model.generate_content([img, 'apenas liste os ingredientes'])\n",
        "\n",
        "to_markdown(response_img.text)"
      ],
      "metadata": {
        "colab": {
          "base_uri": "https://localhost:8080/",
          "height": 410
        },
        "id": "yBtYqeWxipZh",
        "outputId": "28c56d82-66f6-47a6-a9f6-b6d99d0a5397"
      },
      "execution_count": 80,
      "outputs": [
        {
          "output_type": "execute_result",
          "data": {
            "text/plain": [
              "<IPython.core.display.Markdown object>"
            ],
            "text/markdown": ">    * ovos \n>    * alface\n>    * pimentões verdes\n>    * queijo\n>    * leite\n>    * suco de laranja\n>    * manteiga\n>    * iogurte\n>    * hummus\n>    * abacaxi \n>    * pão\n>    * ervilhas\n>    * bacon\n>    * carne moída \n>    * milho \n>    * feijão verde\n>    * batatas roxas\n>    * laranjas\n>    * limões\n>    * abacate\n>    * tomates"
          },
          "metadata": {},
          "execution_count": 80
        }
      ]
    },
    {
      "cell_type": "code",
      "source": [
        "resp = []\n",
        "resp.append(response_img.candidates[0].content)\n",
        "\n",
        "chat = model.start_chat(history=resp)\n",
        "prompt = input(\"Diga qual refeição você quer uma receita: \")"
      ],
      "metadata": {
        "colab": {
          "base_uri": "https://localhost:8080/"
        },
        "id": "leALi0V1zbio",
        "outputId": "14d7ce23-3fd8-4b2d-95a2-933891e3f818"
      },
      "execution_count": 81,
      "outputs": [
        {
          "name": "stdout",
          "output_type": "stream",
          "text": [
            "Diga qual refeição você quer uma receita: Almoço\n"
          ]
        }
      ]
    },
    {
      "cell_type": "code",
      "source": [
        "resposta = chat.send_message(f'Como um chef de cozinha, proponha uma receita fácil e rápida para meu {prompt}')\n",
        "\n",
        "for message in chat.history:\n",
        "  if message.role == 'model':\n",
        "    display(to_markdown(f'Receita: {message.parts[0].text}'))\n"
      ],
      "metadata": {
        "colab": {
          "base_uri": "https://localhost:8080/",
          "height": 969
        },
        "id": "ieIbWpbYrhhx",
        "outputId": "2ccb4b37-06d2-4753-b8fa-8b50c60e4980"
      },
      "execution_count": 82,
      "outputs": [
        {
          "output_type": "display_data",
          "data": {
            "text/plain": [
              "<IPython.core.display.Markdown object>"
            ],
            "text/markdown": "> Receita:    * ovos \n>    * alface\n>    * pimentões verdes\n>    * queijo\n>    * leite\n>    * suco de laranja\n>    * manteiga\n>    * iogurte\n>    * hummus\n>    * abacaxi \n>    * pão\n>    * ervilhas\n>    * bacon\n>    * carne moída \n>    * milho \n>    * feijão verde\n>    * batatas roxas\n>    * laranjas\n>    * limões\n>    * abacate\n>    * tomates"
          },
          "metadata": {}
        },
        {
          "output_type": "display_data",
          "data": {
            "text/plain": [
              "<IPython.core.display.Markdown object>"
            ],
            "text/markdown": "> Receita: ## Almoço Rápido e Fácil: Omelete Recheado\n> \n> Esta receita é perfeita para um almoço rápido e nutritivo, pois é simples de fazer e pode ser adaptada com os ingredientes que você tem em mãos.\n> \n>    *   *Ingredientes:   *   *\n> \n>    * 2 ovos\n>    * 1 colher de sopa de leite\n>    * Sal e pimenta a gosto\n>    * 1 colher de sopa de manteiga\n>    * Recheio a gosto (sugestões: queijo, presunto, tomate, cebola, pimentão, espinafre)\n> \n>    *   *Instruções:   *   *\n> \n> 1. Em uma tigela, bata os ovos com o leite, sal e pimenta.\n> 2. Derreta a manteiga em uma frigideira antiaderente em fogo médio.\n> 3. Despeje a mistura de ovos na frigideira e cozinhe por alguns minutos, até que a base esteja firme.\n> 4. Adicione o recheio de sua escolha em metade da omelete.\n> 5. Com uma espátula, dobre a outra metade da omelete sobre o recheio.\n> 6. Cozinhe por mais alguns minutos, até que o queijo esteja derretido e o recheio esteja quente.\n> 7. Sirva imediatamente.\n> \n>    *   *Dicas:   *   *\n> \n>    * Para um omelete mais fofo, adicione uma pitada de fermento em pó à mistura de ovos.\n>    * Se você não tiver leite, pode usar água.\n>    * Experimente diferentes combinações de recheio para variar o sabor.\n>    * Sirva com uma salada verde ou frutas para uma refeição completa. \n> \n>    *   *Tempo de preparo:   *   * 10-15 minutos\n> \n>    *   *Bom apetite!   *   * \n"
          },
          "metadata": {}
        }
      ]
    },
    {
      "cell_type": "markdown",
      "source": [
        "testes rápidos"
      ],
      "metadata": {
        "id": "XBm5NLObimIW"
      }
    }
  ]
}