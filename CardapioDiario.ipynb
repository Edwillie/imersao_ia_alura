{
  "nbformat": 4,
  "nbformat_minor": 0,
  "metadata": {
    "colab": {
      "provenance": [],
      "toc_visible": true,
      "authorship_tag": "ABX9TyMYQIdn6aYK3aT6yPJGJGDq",
      "include_colab_link": true
    },
    "kernelspec": {
      "name": "python3",
      "display_name": "Python 3"
    },
    "language_info": {
      "name": "python"
    }
  },
  "cells": [
    {
      "cell_type": "markdown",
      "metadata": {
        "id": "view-in-github",
        "colab_type": "text"
      },
      "source": [
        "<a href=\"https://colab.research.google.com/github/Edwillie/imersao_ia_alura/blob/main/CardapioDiario.ipynb\" target=\"_parent\"><img src=\"https://colab.research.google.com/assets/colab-badge.svg\" alt=\"Open In Colab\"/></a>"
      ]
    },
    {
      "cell_type": "markdown",
      "source": [
        "# Instalação do SDK"
      ],
      "metadata": {
        "id": "wawI9-29lLe9"
      }
    },
    {
      "cell_type": "code",
      "source": [
        "!pip install -q -U google-generativeai"
      ],
      "metadata": {
        "id": "DukoDRAklTbD"
      },
      "execution_count": 92,
      "outputs": []
    },
    {
      "cell_type": "markdown",
      "source": [
        "# Importação de Bibliotecas Necessárias"
      ],
      "metadata": {
        "id": "WaIi_8UnZBoZ"
      }
    },
    {
      "cell_type": "code",
      "execution_count": 93,
      "metadata": {
        "id": "d8O3jhUmXGDj"
      },
      "outputs": [],
      "source": [
        "from google.colab import userdata\n",
        "from IPython.display import display, Markdown\n",
        "import google.generativeai as genai\n",
        "import textwrap\n",
        "import PIL.Image\n",
        "import urllib.request"
      ]
    },
    {
      "cell_type": "markdown",
      "source": [
        "# Funções de apoio"
      ],
      "metadata": {
        "id": "YWPa4xDz6kXJ"
      }
    },
    {
      "cell_type": "code",
      "source": [
        "# Melhorando a visualização\n",
        "def to_markdown(text):\n",
        "  text = text.replace('*', '   *')\n",
        "  return Markdown(textwrap.indent(text, '> ', predicate=lambda _:True))\n"
      ],
      "metadata": {
        "id": "HYhASFBg6oKO"
      },
      "execution_count": 94,
      "outputs": []
    },
    {
      "cell_type": "markdown",
      "source": [
        "# Inicialização de Variáveis"
      ],
      "metadata": {
        "id": "ffhr0xEPbTQ2"
      }
    },
    {
      "cell_type": "code",
      "source": [
        "aikey = userdata.get('GeminiKey')"
      ],
      "metadata": {
        "id": "VtCdv6pLbP3p"
      },
      "execution_count": 95,
      "outputs": []
    },
    {
      "cell_type": "markdown",
      "source": [
        "# Conectando no Gemini"
      ],
      "metadata": {
        "id": "Eb1lcqyUb5vf"
      }
    },
    {
      "cell_type": "code",
      "source": [
        "# Configurando o Modelo\n",
        "genai.configure(api_key=aikey)\n",
        "\n",
        "generation_config = {\n",
        "  \"candidate_count\": 1,\n",
        "  \"temperature\": 1,\n",
        "  \"top_p\": 0.95,\n",
        "  \"top_k\": 0,\n",
        "  \"max_output_tokens\": 8192,\n",
        "}\n",
        "\n",
        "safety_settings = [\n",
        "  {\n",
        "    \"category\": \"HARM_CATEGORY_HARASSMENT\",\n",
        "    \"threshold\": \"BLOCK_MEDIUM_AND_ABOVE\"\n",
        "  },\n",
        "  {\n",
        "    \"category\": \"HARM_CATEGORY_HATE_SPEECH\",\n",
        "    \"threshold\": \"BLOCK_MEDIUM_AND_ABOVE\"\n",
        "  },\n",
        "  {\n",
        "    \"category\": \"HARM_CATEGORY_SEXUALLY_EXPLICIT\",\n",
        "    \"threshold\": \"BLOCK_MEDIUM_AND_ABOVE\"\n",
        "  },\n",
        "  {\n",
        "    \"category\": \"HARM_CATEGORY_DANGEROUS_CONTENT\",\n",
        "    \"threshold\": \"BLOCK_MEDIUM_AND_ABOVE\"\n",
        "  },\n",
        "]\n",
        "\n",
        "model = genai.GenerativeModel(model_name=\"gemini-1.5-pro-latest\",\n",
        "                              generation_config=generation_config,\n",
        "                              safety_settings=safety_settings)"
      ],
      "metadata": {
        "id": "Ft6nPu2ibuo1"
      },
      "execution_count": 96,
      "outputs": []
    },
    {
      "cell_type": "markdown",
      "source": [
        "# Começando a consumir o modelo"
      ],
      "metadata": {
        "id": "vEZb8-yEzc-u"
      }
    },
    {
      "cell_type": "code",
      "source": [
        "print(\"Atenção, Este modelo está enviesado como um cozinheiro\")"
      ],
      "metadata": {
        "id": "nF-8EdXJlpTr",
        "colab": {
          "base_uri": "https://localhost:8080/"
        },
        "outputId": "c22ae634-f52e-4a35-f034-c3d9bf7a6451"
      },
      "execution_count": 97,
      "outputs": [
        {
          "output_type": "stream",
          "name": "stdout",
          "text": [
            "Atenção, Este modelo está enviesado como um cozinheiro\n"
          ]
        }
      ]
    },
    {
      "cell_type": "markdown",
      "source": [
        "# Lendo a imagem que irá listar os igredientes que deverão ser usados nas receitas de refeição"
      ],
      "metadata": {
        "id": "aGJ5asXzmWK1"
      }
    },
    {
      "cell_type": "code",
      "source": [
        "#urllib.request.urlretrieve('https://t0.gstatic.com/licensed-image?q=tbn:ANd9GcQ_Kevbk21QBRy-PgB4kQpS79brbmmEG7m3VOTShAn4PecDU5H5UxrJxE3Dw1JiaG17V88QIol19-3TM2wCHw', 'img_arq')\n",
        "urllib.request.urlretrieve('https://st5.depositphotos.com/1001877/65791/i/1600/depositphotos_657912818-stock-photo-shopping-basket-fresh-food-grocery.jpg', 'img_arq')\n",
        "img = PIL.Image.open('img_arq')\n",
        "response_img = model.generate_content([img, 'apenas liste os ingredientes'])\n",
        "\n",
        "to_markdown(response_img.text)"
      ],
      "metadata": {
        "colab": {
          "base_uri": "https://localhost:8080/",
          "height": 305
        },
        "id": "yBtYqeWxipZh",
        "outputId": "14b3fc54-dfda-4ecd-c6a4-5dd5a7d0edc1"
      },
      "execution_count": 98,
      "outputs": [
        {
          "output_type": "execute_result",
          "data": {
            "text/plain": [
              "<IPython.core.display.Markdown object>"
            ],
            "text/markdown": ">    * melancia\n>    * bananas \n>    * abacaxi\n>    * maçãs \n>    * laranjas\n>    * tomates\n>    * batatas\n>    * pão\n>    * leite\n>    * suco de laranja\n>    * refrigerante\n>    * cerveja\n>    * óleo de cozinha\n>    * carne\n>    * enlatados"
          },
          "metadata": {},
          "execution_count": 98
        }
      ]
    },
    {
      "cell_type": "code",
      "source": [
        "resp = []\n",
        "resp.append(response_img.candidates[0].content)\n",
        "\n",
        "chat = model.start_chat(history=resp)\n",
        "prompt = input(\"Diga qual refeição você quer uma receita: \")"
      ],
      "metadata": {
        "colab": {
          "base_uri": "https://localhost:8080/"
        },
        "id": "leALi0V1zbio",
        "outputId": "192def3e-ece5-435a-8c22-0ffc7eb22a14"
      },
      "execution_count": 99,
      "outputs": [
        {
          "name": "stdout",
          "output_type": "stream",
          "text": [
            "Diga qual refeição você quer uma receita: Jantar\n"
          ]
        }
      ]
    },
    {
      "cell_type": "code",
      "source": [
        "resposta = chat.send_message(f'Como um chef de cozinha, e baseado unicamente nos ingredientes já listados, proponha tres receita fácil e rápida para meu {prompt}')\n",
        "\n",
        "for message in chat.history:\n",
        "  if message.role == 'model':\n",
        "    display(to_markdown(f'Receita: {message.parts[0].text}'))\n"
      ],
      "metadata": {
        "colab": {
          "base_uri": "https://localhost:8080/",
          "height": 769
        },
        "id": "ieIbWpbYrhhx",
        "outputId": "39927e66-f885-42e4-955b-b29173a38438"
      },
      "execution_count": 100,
      "outputs": [
        {
          "output_type": "display_data",
          "data": {
            "text/plain": [
              "<IPython.core.display.Markdown object>"
            ],
            "text/markdown": "> Receita:    * melancia\n>    * bananas \n>    * abacaxi\n>    * maçãs \n>    * laranjas\n>    * tomates\n>    * batatas\n>    * pão\n>    * leite\n>    * suco de laranja\n>    * refrigerante\n>    * cerveja\n>    * óleo de cozinha\n>    * carne\n>    * enlatados"
          },
          "metadata": {}
        },
        {
          "output_type": "display_data",
          "data": {
            "text/plain": [
              "<IPython.core.display.Markdown object>"
            ],
            "text/markdown": "> Receita: ## Três Ideias para um Jantar Rápido e Fácil:\n> \n> Com base nos ingredientes que você já listou, aqui estão três sugestões de receitas simples e saborosas para o seu jantar:\n> \n>    *   *Opção 1: Salada Tropical com Frango Grelhado   *   *\n> \n>    *    *   *Ingredientes:   *   * Frango, abacaxi, maçã, laranja, tomate, alface (se disponível), azeite, sal, pimenta. \n>    *    *   *Preparo:   *   * Grelhe o frango temperado com sal e pimenta. Corte o abacaxi, a maçã, a laranja e o tomate em cubos. Misture tudo numa saladeira com alface (se tiver), tempere com azeite, sal e pimenta. \n> \n>    *   *Opção 2: Espetinhos de Carne e Legumes   *   *\n> \n>    *    *   *Ingredientes:   *   * Carne, tomate, batata, cebola (se disponível), pimentão (se disponível), sal, pimenta, óleo.\n>    *    *   *Preparo:   *   * Corte a carne, batata, tomate e os demais vegetais em cubos. Monte os espetinhos intercalando carne e vegetais. Tempere com sal, pimenta e um fio de óleo. Asse no forno ou grelhe até a carne e os vegetais estarem cozidos.\n> \n>    *   *Opção 3: Sanduíche de Frango com Salada de Maionese   *   *\n> \n>    *    *   *Ingredientes:   *   * Frango, pão, maionese, batata, cenoura (se disponível), ervilha (se disponível), milho (se disponível), sal, pimenta. \n>    *    *   *Preparo:   *   * Cozinhe o frango e desfie. Cozinhe as batatas e amasse. Misture a batata com maionese e os demais vegetais que tiver, temperando com sal e pimenta. Recheie o pão com o frango desfiado e a salada de maionese.\n> \n>    *   *Dicas:   *   *\n> \n>    * Você pode usar o suco de laranja para marinar o frango e dar um toque cítrico.\n>    * Se tiver ervas e especiarias, use-as para temperar as receitas. \n>    * Acompanhe as refeições com o refrigerante ou cerveja (se for maior de idade).\n>    * Use a criatividade e adapte as receitas conforme os ingredientes que você tiver disponíveis. \n> \n> Bom apetite! \n"
          },
          "metadata": {}
        }
      ]
    },
    {
      "cell_type": "markdown",
      "source": [
        "testes rápidos"
      ],
      "metadata": {
        "id": "XBm5NLObimIW"
      }
    }
  ]
}