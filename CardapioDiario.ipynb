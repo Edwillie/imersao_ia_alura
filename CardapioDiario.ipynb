{
  "nbformat": 4,
  "nbformat_minor": 0,
  "metadata": {
    "colab": {
      "provenance": [],
      "authorship_tag": "ABX9TyPtKUGi4mCi59GCNcK3Yh3M",
      "include_colab_link": true
    },
    "kernelspec": {
      "name": "python3",
      "display_name": "Python 3"
    },
    "language_info": {
      "name": "python"
    }
  },
  "cells": [
    {
      "cell_type": "markdown",
      "metadata": {
        "id": "view-in-github",
        "colab_type": "text"
      },
      "source": [
        "<a href=\"https://colab.research.google.com/github/Edwillie/imersao_ia_alura/blob/main/CardapioDiario.ipynb\" target=\"_parent\"><img src=\"https://colab.research.google.com/assets/colab-badge.svg\" alt=\"Open In Colab\"/></a>"
      ]
    },
    {
      "cell_type": "markdown",
      "source": [
        "# Instalação do SDK"
      ],
      "metadata": {
        "id": "wawI9-29lLe9"
      }
    },
    {
      "cell_type": "code",
      "source": [
        "!pip install -q -U google-generativeai"
      ],
      "metadata": {
        "id": "DukoDRAklTbD"
      },
      "execution_count": 1,
      "outputs": []
    },
    {
      "cell_type": "markdown",
      "source": [
        "# Importação de Bibliotecas Necessárias"
      ],
      "metadata": {
        "id": "WaIi_8UnZBoZ"
      }
    },
    {
      "cell_type": "code",
      "execution_count": 7,
      "metadata": {
        "id": "d8O3jhUmXGDj"
      },
      "outputs": [],
      "source": [
        "from google.colab import userdata\n",
        "from IPython.display import display, Markdown\n",
        "import google.generativeai as genai\n",
        "import textwrap\n",
        "import PIL.Image\n",
        "import urllib.request"
      ]
    },
    {
      "cell_type": "markdown",
      "source": [
        "# Funções de apoio"
      ],
      "metadata": {
        "id": "YWPa4xDz6kXJ"
      }
    },
    {
      "cell_type": "code",
      "source": [
        "# Melhorando a visualização\n",
        "def to_markdown(text):\n",
        "  text = text.replace('*', '   *')\n",
        "  return Markdown(textwrap.indent(text, '> ', predicate=lambda _:True))\n"
      ],
      "metadata": {
        "id": "HYhASFBg6oKO"
      },
      "execution_count": 3,
      "outputs": []
    },
    {
      "cell_type": "markdown",
      "source": [
        "# Inicialização de Variáveis"
      ],
      "metadata": {
        "id": "ffhr0xEPbTQ2"
      }
    },
    {
      "cell_type": "code",
      "source": [
        "aikey = userdata.get('GeminiKey')"
      ],
      "metadata": {
        "id": "VtCdv6pLbP3p"
      },
      "execution_count": 4,
      "outputs": []
    },
    {
      "cell_type": "markdown",
      "source": [
        "# Conectando no Gemini"
      ],
      "metadata": {
        "id": "Eb1lcqyUb5vf"
      }
    },
    {
      "cell_type": "code",
      "source": [
        "# Configurando o Modelo\n",
        "genai.configure(api_key=aikey)\n",
        "\n",
        "generation_config = {\n",
        "  \"candidate_count\": 1,\n",
        "  \"temperature\": 1,\n",
        "  \"top_p\": 0.95,\n",
        "  \"top_k\": 0,\n",
        "  \"max_output_tokens\": 8192,\n",
        "}\n",
        "\n",
        "safety_settings = [\n",
        "  {\n",
        "    \"category\": \"HARM_CATEGORY_HARASSMENT\",\n",
        "    \"threshold\": \"BLOCK_MEDIUM_AND_ABOVE\"\n",
        "  },\n",
        "  {\n",
        "    \"category\": \"HARM_CATEGORY_HATE_SPEECH\",\n",
        "    \"threshold\": \"BLOCK_MEDIUM_AND_ABOVE\"\n",
        "  },\n",
        "  {\n",
        "    \"category\": \"HARM_CATEGORY_SEXUALLY_EXPLICIT\",\n",
        "    \"threshold\": \"BLOCK_MEDIUM_AND_ABOVE\"\n",
        "  },\n",
        "  {\n",
        "    \"category\": \"HARM_CATEGORY_DANGEROUS_CONTENT\",\n",
        "    \"threshold\": \"BLOCK_MEDIUM_AND_ABOVE\"\n",
        "  },\n",
        "]\n",
        "\n",
        "model = genai.GenerativeModel(model_name=\"gemini-1.5-pro-latest\",\n",
        "                              generation_config=generation_config,\n",
        "                              safety_settings=safety_settings)"
      ],
      "metadata": {
        "id": "Ft6nPu2ibuo1"
      },
      "execution_count": 5,
      "outputs": []
    },
    {
      "cell_type": "markdown",
      "source": [
        "# Começando a consumir o modelo"
      ],
      "metadata": {
        "id": "vEZb8-yEzc-u"
      }
    },
    {
      "cell_type": "code",
      "source": [
        "print(\"Atenção, Este modelo está enviesado como um cozinheiro\")"
      ],
      "metadata": {
        "id": "nF-8EdXJlpTr"
      },
      "execution_count": null,
      "outputs": []
    },
    {
      "cell_type": "markdown",
      "source": [
        "# Lendo a imagem que irá listar os igredientes que deverão ser usados nas receitas de refeição"
      ],
      "metadata": {
        "id": "aGJ5asXzmWK1"
      }
    },
    {
      "cell_type": "code",
      "source": [
        "#urllib.request.urlretrieve('https://t0.gstatic.com/licensed-image?q=tbn:ANd9GcQ_Kevbk21QBRy-PgB4kQpS79brbmmEG7m3VOTShAn4PecDU5H5UxrJxE3Dw1JiaG17V88QIol19-3TM2wCHw', 'img_arq')\n",
        "urllib.request.urlretrieve('https://media.gettyimages.com/id/183851510/pt/foto/mercado-de-vegetais.jpg?s=612x612&w=gi&k=20&c=quthz3m_PJR_ikokJRa00nESVpqLVcl9b-tPimgRNXI=', 'img_arq')\n",
        "img = PIL.Image.open('img_arq')\n",
        "response_img = model.generate_content([img, 'apenas liste os ingredientes'])\n",
        "\n",
        "to_markdown(response_img.text)"
      ],
      "metadata": {
        "colab": {
          "base_uri": "https://localhost:8080/",
          "height": 271
        },
        "id": "yBtYqeWxipZh",
        "outputId": "f4e2e7e4-cf99-466d-a32a-0d62c51c5631"
      },
      "execution_count": 89,
      "outputs": [
        {
          "output_type": "execute_result",
          "data": {
            "text/plain": [
              "<IPython.core.display.Markdown object>"
            ],
            "text/markdown": ">    * mamão\n>    * banana\n>    * taro\n>    * abacaxi\n>    * manga\n>    * laranja\n>    * romã\n>    * abacate\n>    * fruta-do-conde\n>    * maracujá\n>    * acerola\n>    * pitaia\n>    * berinjela"
          },
          "metadata": {},
          "execution_count": 89
        }
      ]
    },
    {
      "cell_type": "code",
      "source": [
        "resp = []\n",
        "resp.append(response_img.candidates[0].content)\n",
        "\n",
        "chat = model.start_chat(history=resp)\n",
        "prompt = input(\"Diga qual refeição você quer uma receita: \")"
      ],
      "metadata": {
        "colab": {
          "base_uri": "https://localhost:8080/"
        },
        "id": "leALi0V1zbio",
        "outputId": "e9f51918-e0d1-41a0-a3c5-9a98351c8e00"
      },
      "execution_count": 90,
      "outputs": [
        {
          "name": "stdout",
          "output_type": "stream",
          "text": [
            "Diga qual refeição você quer uma receita: Café da Manhã\n"
          ]
        }
      ]
    },
    {
      "cell_type": "code",
      "source": [
        "resposta = chat.send_message(f'Como um chef de cozinha, e baseado unicamente nos ingredientes já listados, proponha tres receita fácil e rápida para meu {prompt}')\n",
        "\n",
        "for message in chat.history:\n",
        "  if message.role == 'model':\n",
        "    display(to_markdown(f'Receita: {message.parts[0].text}'))\n"
      ],
      "metadata": {
        "colab": {
          "base_uri": "https://localhost:8080/",
          "height": 1000
        },
        "id": "ieIbWpbYrhhx",
        "outputId": "2df776ed-ccf2-4bbb-90a1-1fad2485dbbf"
      },
      "execution_count": 91,
      "outputs": [
        {
          "output_type": "display_data",
          "data": {
            "text/plain": [
              "<IPython.core.display.Markdown object>"
            ],
            "text/markdown": "> Receita:    * mamão\n>    * banana\n>    * taro\n>    * abacaxi\n>    * manga\n>    * laranja\n>    * romã\n>    * abacate\n>    * fruta-do-conde\n>    * maracujá\n>    * acerola\n>    * pitaia\n>    * berinjela"
          },
          "metadata": {}
        },
        {
          "output_type": "display_data",
          "data": {
            "text/plain": [
              "<IPython.core.display.Markdown object>"
            ],
            "text/markdown": "> Receita: ## 3 Receitas Fáceis e Rápidas para o Café da Manhã:\n> \n>    *   *Com base nos ingredientes que você listou, aqui estão três ideias simples e deliciosas para começar o dia:   *   *\n> \n>    *   *1. Smoothie Tropical de Banana e Manga:   *   *\n> \n>    * Ingredientes:\n>        * 1 banana madura\n>        * 1/2 manga madura\n>        * 1/2 xícara de suco de laranja \n>        * 1/4 xícara de iogurte natural (opcional)\n>    * Modo de preparo:\n>     1. Descasque e pique a banana e a manga.\n>     2. Coloque as frutas no liquidificador juntamente com o suco de laranja e o iogurte (se estiver usando).\n>     3. Bata até obter uma consistência cremosa e homogênea.\n>     4. Sirva imediatamente.\n> \n>    *   *2. Salada de Frutas com Maracujá e Granola:   *   *\n> \n>    * Ingredientes:\n>        * 1/2 mamão papaya\n>        * 1/2 abacaxi \n>        * 1 maracujá\n>        * Granola a gosto\n>        * Mel a gosto (opcional)\n>    * Modo de preparo:\n>     1. Corte o mamão e o abacaxi em cubos.\n>     2. Retire a polpa do maracujá. \n>     3. Misture as frutas em uma tigela.\n>     4. Cubra com granola e adicione mel, se desejar.\n> \n>    *   *3. Torrada de Abacate com Acerola:   *   *\n> \n>    * Ingredientes:\n>        * 1 fatia de pão integral \n>        * 1/2 abacate maduro\n>        * Acerola a gosto\n>        * Sal e pimenta a gosto\n>    * Modo de preparo:\n>     1. Toste a fatia de pão.\n>     2. Amasse o abacate e espalhe sobre a torrada.\n>     3. Tempere com sal e pimenta.\n>     4. Cubra com acerolas frescas. \n> \n>    *   *Dicas:   *   *\n> \n>    *  Você pode adaptar as receitas de acordo com as frutas da estação e o seu gosto pessoal. \n>    * Adicione outras frutas da sua lista para incrementar ainda mais as suas receitas.\n>    * Para uma opção mais proteica, adicione iogurte grego ou queijo cottage ao smoothie ou à salada de frutas.\n>    * Utilize mel, agave ou xarope de bordo como alternativa ao açúcar refinado.\n> \n>    *   *Bom apetite!   *   * \n"
          },
          "metadata": {}
        }
      ]
    },
    {
      "cell_type": "markdown",
      "source": [
        "testes rápidos"
      ],
      "metadata": {
        "id": "XBm5NLObimIW"
      }
    }
  ]
}